{
 "cells": [
  {
   "cell_type": "code",
   "execution_count": 32,
   "id": "b5904f5a",
   "metadata": {},
   "outputs": [],
   "source": [
    "#import libraries\n",
    "\n",
    "from bs4 import BeautifulSoup\n",
    "import requests\n",
    "import smtplib #sending e-mails to yourself\n",
    "import time\n",
    "import datetime\n"
   ]
  },
  {
   "cell_type": "code",
   "execution_count": 33,
   "id": "82a0d391",
   "metadata": {},
   "outputs": [],
   "source": [
    "# Connect to Website\n",
    "\n",
    "URL = 'https://www.amazon.com/Funny-Data-Systems-Business-Analyst/dp/B07FNW9FGJ/ref=sr_1_3?dchild=1&keywords=data&customId=B0752XJYNL&customizationToken=MC_Assembly_1%23B0752XJYNL&th=1'\n",
    "\n",
    "headers = {\"User-Agent\": \"Mozilla/5.0 (Macintosh; Intel Mac OS X 10_15_7) AppleWebKit/537.36 (KHTML, like Gecko) Chrome/117.0.0.0 Safari/537.36\"} \n",
    "\n",
    "page = requests.get(URL, headers=headers)\n",
    "\n",
    "\n",
    "# tell BeautifulSoup where we are getting the data\n",
    "\n",
    "soup1 = BeautifulSoup(page.content, \"html.parser\")\n",
    "\n",
    "soup2 = BeautifulSoup(soup1.prettify(), \"html.parser\")\n",
    "\n",
    "\n"
   ]
  },
  {
   "cell_type": "code",
   "execution_count": null,
   "id": "53452d36",
   "metadata": {},
   "outputs": [],
   "source": [
    "soup2 = BeautifulSoup(soup1.prettify(), \"html.parser\")\n",
    "print(soup2)"
   ]
  },
  {
   "cell_type": "code",
   "execution_count": 35,
   "id": "93d42cc7",
   "metadata": {},
   "outputs": [
    {
     "name": "stdout",
     "output_type": "stream",
     "text": [
      "\n",
      "                   Funny Got Data MIS Data Systems Business Analyst T-Shirt\n",
      "                  \n"
     ]
    }
   ],
   "source": [
    "title = soup2.find(id=\"productTitle\").get_text()\n",
    "\n",
    "print(title)"
   ]
  },
  {
   "cell_type": "code",
   "execution_count": 86,
   "id": "766bc413",
   "metadata": {},
   "outputs": [
    {
     "name": "stdout",
     "output_type": "stream",
     "text": [
      "\n",
      "                   Funny Got Data MIS Data Systems Business Analyst T-Shirt\n",
      "                  \n"
     ]
    }
   ],
   "source": [
    "title = soup2.find(id=\"productTitle\").get_text()\n",
    "\n",
    "print(title)"
   ]
  },
  {
   "cell_type": "code",
   "execution_count": 51,
   "id": "085dc5a2",
   "metadata": {
    "scrolled": true
   },
   "outputs": [
    {
     "name": "stdout",
     "output_type": "stream",
     "text": [
      "\n",
      "                       $19.99\n",
      "                      \n"
     ]
    }
   ],
   "source": [
    "price = soup2.find(\"span\", {\"class\": \"a-size-medium a-color-price\"}).get_text()\n",
    "print(price)"
   ]
  },
  {
   "cell_type": "code",
   "execution_count": 37,
   "id": "9acf34c7",
   "metadata": {},
   "outputs": [
    {
     "name": "stdout",
     "output_type": "stream",
     "text": [
      "\n",
      "                  Brand: MIS Business & Data Analyst Got Data Designs\n",
      "                 \n",
      "\n",
      "\n",
      "\n",
      "                About this item\n",
      "               \n",
      "\n",
      "\n",
      "\n",
      "                  Solid colors: 100% Cotton; Heather Grey: 90% Cotton, 10% Polyester; All Other Heathers: 50% Cotton, 50% Polyester\n",
      "                 \n",
      "\n",
      "\n",
      "\n",
      "                  Imported\n",
      "                 \n",
      "\n",
      "\n",
      "\n",
      "                  Pull On closure\n",
      "                 \n",
      "\n",
      "\n",
      "\n",
      "                  Machine Wash\n",
      "                 \n",
      "\n",
      "\n",
      "\n",
      "                  'Funny Got Data MIS Data Systems Business Analyst' is a funny pickup perfect for people interested in MIS and data systems who works in IT or data consulting! Any business analyst or consultant that works with big data will love it!\n",
      "                 \n",
      "\n",
      "\n",
      "\n",
      "                  Lightweight, Classic fit, Double-needle sleeve and bottom hem\n",
      "                 \n",
      "\n",
      "\n",
      "\n",
      "\n"
     ]
    }
   ],
   "source": [
    "brand = soup2.find(id = \"bylineInfo\").get_text()\n",
    "print(brand)\n",
    "\n",
    "\n",
    "feature = soup2.find(id = 'feature-bullets').get_text()\n",
    "print(feature)"
   ]
  },
  {
   "cell_type": "code",
   "execution_count": 43,
   "id": "e9040e6e",
   "metadata": {},
   "outputs": [
    {
     "name": "stdout",
     "output_type": "stream",
     "text": [
      "\n",
      "\n",
      "\n",
      "                 About this item\n",
      "                \n",
      "\n",
      "\n",
      "\n",
      "                   Solid colors: 100% Cotton; Heather Grey: 90% Cotton, 10% Polyester; All Other Heathers: 50% Cotton, 50% Polyester\n",
      "                  \n",
      "\n",
      "\n",
      "\n",
      "                   Imported\n",
      "                  \n",
      "\n",
      "\n",
      "\n",
      "                   Pull On closure\n",
      "                  \n",
      "\n",
      "\n",
      "\n",
      "                   Machine Wash\n",
      "                  \n",
      "\n",
      "\n",
      "\n",
      "                   'Funny Got Data MIS Data Systems Business Analyst' is a funny pickup perfect for people interested in MIS and data systems who works in IT or data consulting! Any business analyst or consultant that works with big data will love it!\n",
      "                  \n",
      "\n",
      "\n",
      "\n",
      "                   Lightweight, Classic fit, Double-needle sleeve and bottom hem\n",
      "                  \n",
      "\n",
      "\n",
      "\n",
      "\n"
     ]
    }
   ],
   "source": [
    "\n",
    "feature = soup2.find(id = 'feature-bullets').get_text()\n",
    "print(feature)"
   ]
  },
  {
   "cell_type": "code",
   "execution_count": 53,
   "id": "75d56924",
   "metadata": {},
   "outputs": [
    {
     "name": "stdout",
     "output_type": "stream",
     "text": [
      "Funny Got Data MIS Data Systems Business Analyst T-Shirt\n",
      "9.99\n",
      "Brand: MIS Business & Data Analyst Got Data Designs\n"
     ]
    }
   ],
   "source": [
    "title = title.strip()\n",
    "brand = brand.strip()\n",
    "feature = feature.strip()\n",
    "price = price.strip()[1:]\n",
    "\n",
    "print(title)\n",
    "print(price)\n",
    "print(brand)\n",
    "#print(feature)\n"
   ]
  },
  {
   "cell_type": "code",
   "execution_count": 55,
   "id": "1b2f5b86",
   "metadata": {
    "scrolled": true
   },
   "outputs": [
    {
     "name": "stdout",
     "output_type": "stream",
     "text": [
      "2023-10-13\n"
     ]
    }
   ],
   "source": [
    "#insert timestamp\n",
    "#good practice to put, can be handy\n",
    "\n",
    "import datetime\n",
    "\n",
    "today = datetime.date.today()\n",
    "\n",
    "print(today)"
   ]
  },
  {
   "cell_type": "code",
   "execution_count": 56,
   "id": "d73acf7c",
   "metadata": {},
   "outputs": [],
   "source": [
    "import csv\n",
    "\n",
    "header = ['Title', 'Price' 'Brand', 'Date']\n",
    "data = [title, price, brand, today]\n",
    "\n",
    "with open('AmazonWebScraperDataset.csv', 'w', newline='', encoding='UTF8') as f: \n",
    "        # w is write, newline makes not having space between each csv\n",
    "        writer = csv.writer(f)  \n",
    "        writer.writerow(header)  # inital insertion of data into the csv\n",
    "        writer.writerow(data)    # appending data, writing the data\n",
    "        \n",
    "#The with statement should be at the same level of indentation as the code inside it."
   ]
  },
  {
   "cell_type": "code",
   "execution_count": 76,
   "id": "4acd602e",
   "metadata": {},
   "outputs": [
    {
     "name": "stdout",
     "output_type": "stream",
     "text": [
      "                                                    Title  \\\n",
      "Funny Got Data MIS Data Systems Business Analys...  19.99   \n",
      "\n",
      "                                                                                           PriceBrand  \\\n",
      "Funny Got Data MIS Data Systems Business Analys...  Brand: MIS Business & Data Analyst Got Data De...   \n",
      "\n",
      "                                                          Date  \n",
      "Funny Got Data MIS Data Systems Business Analys...  2023-10-13  \n"
     ]
    }
   ],
   "source": [
    "#check the data without opening\n",
    "\n",
    "import pandas as pd\n",
    "\n",
    "df = pd.read_csv(r'/Users/sahinbasol/AmazonWebScraperDataset.csv')\n",
    "\n",
    "print(df)\n"
   ]
  },
  {
   "cell_type": "code",
   "execution_count": 71,
   "id": "6ea3dfef",
   "metadata": {},
   "outputs": [],
   "source": [
    "#appending additional data to the csv\n",
    "with open('AmazonWebScraperDataset.csv', 'a+', newline='', encoding='UTF8') as f: \n",
    "        writer = csv.writer(f)  \n",
    "        writer.writerow(data)    "
   ]
  },
  {
   "cell_type": "code",
   "execution_count": 94,
   "id": "42b2e4ce",
   "metadata": {},
   "outputs": [],
   "source": [
    "#automate it daily, put it on a timer, will use time library\n",
    "\n",
    "def check_daily():\n",
    "\n",
    "    # Connect to Website\n",
    "\n",
    "    URL = 'https://www.amazon.com/Funny-Data-Systems-Business-Analyst/dp/B07FNW9FGJ/ref=sr_1_3?dchild=1&keywords=data&customId=B0752XJYNL&customizationToken=MC_Assembly_1%23B0752XJYNL&th=1'\n",
    "\n",
    "    headers = {\"User-Agent\": \"Mozilla/5.0 (Macintosh; Intel Mac OS X 10_15_7) AppleWebKit/537.36 (KHTML, like Gecko) Chrome/117.0.0.0 Safari/537.36\"} \n",
    "\n",
    "    page = requests.get(URL, headers=headers)\n",
    "\n",
    "\n",
    "    # tell BeautifulSoup where we are getting the data\n",
    "\n",
    "    soup1 = BeautifulSoup(page.content, \"html.parser\")\n",
    "\n",
    "    soup2 = BeautifulSoup(soup1.prettify(), \"html.parser\")\n",
    "    \n",
    "    #text data    \n",
    "    \n",
    "    try:\n",
    "        title = soup2.find(id=\"productTitle\").get_text().strip()\n",
    "    except AttributeError:\n",
    "        print(\"Title not found\")\n",
    "        \n",
    "    price = soup2.find(\"span\", {\"class\": \"a-size-medium a-color-price\"}).get_text()\n",
    "    brand = soup2.find(id = \"bylineInfo\").get_text()\n",
    "  #  feature = soup2.find(id = 'feature-bullets').get_text()\n",
    "    \n",
    "    #strip data\n",
    "    \n",
    "    title = title.strip()\n",
    "    brand = brand.strip()\n",
    " #   feature = feature.strip()\n",
    "    price = price.strip()[1:]\n",
    "    \n",
    "\n",
    "    #configue 'today'\n",
    "    \n",
    "    import datetime\n",
    "\n",
    "    today = datetime.date.today()\n",
    "\n",
    "    import csv\n",
    "\n",
    "    header = ['Title', 'Price' 'Brand', 'Date']\n",
    "    data = [title, price, brand, today]\n",
    "\n",
    "    with open('AmazonWebScraperDataset.csv', 'w', newline='', encoding='UTF8') as f: \n",
    "        # w is write, newline makes not having space between each csv\n",
    "        writer = csv.writer(f)  \n",
    "         # inital insertion of data into the csv\n",
    "        writer.writerow(data)    # appending data, writing the data\n",
    "        \n",
    "#The with statement should be at the same level of indentation as the code before.\n",
    "\n",
    "    "
   ]
  },
  {
   "cell_type": "code",
   "execution_count": null,
   "id": "711e7409",
   "metadata": {},
   "outputs": [],
   "source": [
    "while(True):\n",
    "    check_daily()\n",
    "    time.sleep(86400)"
   ]
  },
  {
   "cell_type": "code",
   "execution_count": null,
   "id": "40157e39",
   "metadata": {},
   "outputs": [],
   "source": [
    "# sending mail\n",
    "\n",
    "# If uou want to try sending yourself an email (just for fun) when a price hits below a certain level you can try it\n",
    "# out with this script\n",
    "\n",
    "def send_mail():\n",
    "    server = smtplib.SMTP_SSL('smtp.gmail.com',465)\n",
    "    server.ehlo()\n",
    "    #server.starttls()\n",
    "    server.ehlo()\n",
    "    server.login('basolmsahin@gmail.com','xxxxxxxxxxxxxx')\n",
    "    \n",
    "    subject = \"The Shirt you want is below $15! Now is your chance to buy!\"\n",
    "    body = \"Shahin, This is the moment we have been waiting for. Now is your chance to pick up the shirt of your dreams. Don't mess it up! Link here: https://www.amazon.com/Funny-Data-Systems-Business-Analyst/dp/B07FNW9FGJ/ref=sr_1_3?dchild=1&keywords=data+analyst+tshirt&qid=1626655184&sr=8-3\"\n",
    "   \n",
    "    msg = f\"Subject: {subject}\\n\\n{body}\"\n",
    "    \n",
    "    server.sendmail(\n",
    "        'basolmsahin@gmail.com',\n",
    "        msg"
   ]
  }
 ],
 "metadata": {
  "kernelspec": {
   "display_name": "Python 3 (ipykernel)",
   "language": "python",
   "name": "python3"
  },
  "language_info": {
   "codemirror_mode": {
    "name": "ipython",
    "version": 3
   },
   "file_extension": ".py",
   "mimetype": "text/x-python",
   "name": "python",
   "nbconvert_exporter": "python",
   "pygments_lexer": "ipython3",
   "version": "3.11.5"
  }
 },
 "nbformat": 4,
 "nbformat_minor": 5
}
